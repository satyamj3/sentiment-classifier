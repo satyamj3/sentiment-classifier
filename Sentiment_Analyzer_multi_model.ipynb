{
 "cells": [
  {
   "cell_type": "code",
   "execution_count": 2,
   "metadata": {
    "colab": {
     "base_uri": "https://localhost:8080/",
     "height": 35
    },
    "id": "PiHX8M5W-96z",
    "outputId": "24bf2020-ccc9-4677-e9ee-63ef6c346689"
   },
   "outputs": [
    {
     "name": "stdout",
     "output_type": "stream",
     "text": [
      "Mounted at /content/drive\n"
     ]
    }
   ],
   "source": [
    "from google.colab import drive\n",
    "drive.mount('/content/drive')\n",
    "!nvidia-smi"
   ]
  },
  {
   "cell_type": "code",
   "execution_count": 89,
   "metadata": {
    "colab": {
     "base_uri": "https://localhost:8080/",
     "height": 53
    },
    "id": "vU9hPLJMkBry",
    "outputId": "7c046b79-e804-44ad-9bf1-e612016729e7"
   },
   "outputs": [
    {
     "name": "stdout",
     "output_type": "stream",
     "text": [
      "Importing Libraries\n",
      "Libraries Imported\n"
     ]
    }
   ],
   "source": [
    "print('Importing Libraries')\n",
    "\n",
    "import pandas as pd\n",
    "import numpy as np\n",
    "import pickle as pkl\n",
    "from textblob import TextBlob\n",
    "from sklearn.metrics import precision_score\n",
    "from sklearn.metrics import accuracy_score\n",
    "from sklearn.metrics import recall_score\n",
    "from sklearn.metrics import f1_score\n",
    "from sklearn.metrics import confusion_matrix\n",
    "from sklearn.model_selection import train_test_split\n",
    "from nltk.corpus import stopwords\n",
    "from keras.layers import Dense\n",
    "from keras.layers import Dropout\n",
    "from keras.layers import BatchNormalization\n",
    "from keras.layers import LSTM\n",
    "from keras.layers import Embedding\n",
    "from keras.callbacks import TensorBoard\n",
    "from keras.callbacks import EarlyStopping\n",
    "from keras.callbacks import ModelCheckpoint\n",
    "\n",
    "from keras.models import Sequential\n",
    "from keras.preprocessing import sequence\n",
    "from keras.preprocessing.text import Tokenizer\n",
    "import seaborn as sns\n",
    "import matplotlib.pyplot as plt\n",
    "import nltk\n",
    "nltk.download('stopwords')\n",
    "\n",
    "print('Libraries Imported')"
   ]
  },
  {
   "cell_type": "code",
   "execution_count": 20,
   "metadata": {
    "colab": {
     "base_uri": "https://localhost:8080/",
     "height": 204
    },
    "id": "UUb-qFzOB2Uw",
    "outputId": "bc9b4f1f-841c-4265-87f7-2c33c21e2c41"
   },
   "outputs": [
    {
     "data": {
      "text/html": [
       "<div>\n",
       "<style scoped>\n",
       "    .dataframe tbody tr th:only-of-type {\n",
       "        vertical-align: middle;\n",
       "    }\n",
       "\n",
       "    .dataframe tbody tr th {\n",
       "        vertical-align: top;\n",
       "    }\n",
       "\n",
       "    .dataframe thead th {\n",
       "        text-align: right;\n",
       "    }\n",
       "</style>\n",
       "<table border=\"1\" class=\"dataframe\">\n",
       "  <thead>\n",
       "    <tr style=\"text-align: right;\">\n",
       "      <th></th>\n",
       "      <th>review</th>\n",
       "      <th>sentiment</th>\n",
       "    </tr>\n",
       "  </thead>\n",
       "  <tbody>\n",
       "    <tr>\n",
       "      <th>0</th>\n",
       "      <td>One of the other reviewers has mentioned that ...</td>\n",
       "      <td>positive</td>\n",
       "    </tr>\n",
       "    <tr>\n",
       "      <th>1</th>\n",
       "      <td>A wonderful little production. &lt;br /&gt;&lt;br /&gt;The...</td>\n",
       "      <td>positive</td>\n",
       "    </tr>\n",
       "    <tr>\n",
       "      <th>2</th>\n",
       "      <td>I thought this was a wonderful way to spend ti...</td>\n",
       "      <td>positive</td>\n",
       "    </tr>\n",
       "    <tr>\n",
       "      <th>3</th>\n",
       "      <td>Basically there's a family where a little boy ...</td>\n",
       "      <td>negative</td>\n",
       "    </tr>\n",
       "    <tr>\n",
       "      <th>4</th>\n",
       "      <td>Petter Mattei's \"Love in the Time of Money\" is...</td>\n",
       "      <td>positive</td>\n",
       "    </tr>\n",
       "  </tbody>\n",
       "</table>\n",
       "</div>"
      ],
      "text/plain": [
       "                                              review sentiment\n",
       "0  One of the other reviewers has mentioned that ...  positive\n",
       "1  A wonderful little production. <br /><br />The...  positive\n",
       "2  I thought this was a wonderful way to spend ti...  positive\n",
       "3  Basically there's a family where a little boy ...  negative\n",
       "4  Petter Mattei's \"Love in the Time of Money\" is...  positive"
      ]
     },
     "execution_count": 20,
     "metadata": {
      "tags": []
     },
     "output_type": "execute_result"
    }
   ],
   "source": [
    "df = pd.read_csv('/content/drive/My Drive/datasets/sentiment_analysis/Dataset.csv')\n",
    "df.head()"
   ]
  },
  {
   "cell_type": "code",
   "execution_count": 73,
   "metadata": {
    "id": "vg1UnQgCzCT_"
   },
   "outputs": [],
   "source": [
    "# ---------------- Take only english character and numbers--------------\n",
    "\n",
    "def clean_text(x):\n",
    "    import string\n",
    "    import re\n",
    "    sent = ''\n",
    "    for i in x:\n",
    "        if(i in string.printable):\n",
    "            sent+=i\n",
    "    new_sent = ''\n",
    "    for i in sent:\n",
    "        if(i in string.ascii_letters+' '+'0123456789'):\n",
    "            new_sent+=i\n",
    "            \n",
    "    new_sent= re.sub('\\s+', ' ', new_sent)\n",
    "\n",
    "    return new_sent.lower()\n",
    "\n",
    "def remove_stopwords(input_text):\n",
    "    \"Removing stop words from the sentences\"\n",
    "    stopwords_list = stopwords.words('english')\n",
    "    stopwords_list.extend('br')\n",
    "    # Some words which might indicate a certain sentiment are kept via a whitelist\n",
    "    whitelist = [\"n't\", \"not\", \"no\"]\n",
    "    words = input_text.split() \n",
    "    clean_words = [word for word in words if (word not in stopwords_list or word in whitelist) and len(word) > 1] \n",
    "    return \" \".join(clean_words).lower()"
   ]
  },
  {
   "cell_type": "code",
   "execution_count": 74,
   "metadata": {
    "colab": {
     "base_uri": "https://localhost:8080/",
     "height": 240
    },
    "id": "AVIrci3dCZ7J",
    "outputId": "e674ed5f-8864-451f-b6c8-9563fc3d7397"
   },
   "outputs": [
    {
     "name": "stdout",
     "output_type": "stream",
     "text": [
      "Any review without sentiment:  False\n",
      "Unique sentiments:  ['positive' 'negative']\n"
     ]
    },
    {
     "data": {
      "text/html": [
       "<div>\n",
       "<style scoped>\n",
       "    .dataframe tbody tr th:only-of-type {\n",
       "        vertical-align: middle;\n",
       "    }\n",
       "\n",
       "    .dataframe tbody tr th {\n",
       "        vertical-align: top;\n",
       "    }\n",
       "\n",
       "    .dataframe thead th {\n",
       "        text-align: right;\n",
       "    }\n",
       "</style>\n",
       "<table border=\"1\" class=\"dataframe\">\n",
       "  <thead>\n",
       "    <tr style=\"text-align: right;\">\n",
       "      <th></th>\n",
       "      <th>review</th>\n",
       "      <th>sentiment</th>\n",
       "      <th>sentiment_index</th>\n",
       "      <th>clean_review</th>\n",
       "      <th>review_class</th>\n",
       "    </tr>\n",
       "  </thead>\n",
       "  <tbody>\n",
       "    <tr>\n",
       "      <th>0</th>\n",
       "      <td>One of the other reviewers has mentioned that ...</td>\n",
       "      <td>positive</td>\n",
       "      <td>1</td>\n",
       "      <td>one reviewers mentioned watching oz episode yo...</td>\n",
       "      <td>0</td>\n",
       "    </tr>\n",
       "    <tr>\n",
       "      <th>1</th>\n",
       "      <td>A wonderful little production. &lt;br /&gt;&lt;br /&gt;The...</td>\n",
       "      <td>positive</td>\n",
       "      <td>1</td>\n",
       "      <td>wonderful little production br br filming tech...</td>\n",
       "      <td>0</td>\n",
       "    </tr>\n",
       "    <tr>\n",
       "      <th>2</th>\n",
       "      <td>I thought this was a wonderful way to spend ti...</td>\n",
       "      <td>positive</td>\n",
       "      <td>1</td>\n",
       "      <td>thought wonderful way spend time hot summer we...</td>\n",
       "      <td>0</td>\n",
       "    </tr>\n",
       "    <tr>\n",
       "      <th>3</th>\n",
       "      <td>Basically there's a family where a little boy ...</td>\n",
       "      <td>negative</td>\n",
       "      <td>0</td>\n",
       "      <td>basically theres family little boy jake thinks...</td>\n",
       "      <td>0</td>\n",
       "    </tr>\n",
       "    <tr>\n",
       "      <th>4</th>\n",
       "      <td>Petter Mattei's \"Love in the Time of Money\" is...</td>\n",
       "      <td>positive</td>\n",
       "      <td>1</td>\n",
       "      <td>petter matteis love time money visually stunni...</td>\n",
       "      <td>0</td>\n",
       "    </tr>\n",
       "  </tbody>\n",
       "</table>\n",
       "</div>"
      ],
      "text/plain": [
       "                                              review  ... review_class\n",
       "0  One of the other reviewers has mentioned that ...  ...            0\n",
       "1  A wonderful little production. <br /><br />The...  ...            0\n",
       "2  I thought this was a wonderful way to spend ti...  ...            0\n",
       "3  Basically there's a family where a little boy ...  ...            0\n",
       "4  Petter Mattei's \"Love in the Time of Money\" is...  ...            0\n",
       "\n",
       "[5 rows x 5 columns]"
      ]
     },
     "execution_count": 74,
     "metadata": {
      "tags": []
     },
     "output_type": "execute_result"
    }
   ],
   "source": [
    "# checking if there any sentence without any sentiment given\n",
    "print('Any review without sentiment: ', df['sentiment'].isnull().any())\n",
    "print('Unique sentiments: ', df['sentiment'].unique())\n",
    "\n",
    "# encoding the sentiment\n",
    "df['sentiment_index'] = np.where(df['sentiment'] == 'positive', 1, 0)\n",
    "\n",
    "# removing extra characters from the text\n",
    "df['clean_review'] = df['review'].apply(clean_text)\n",
    "\n",
    "# removing stop words from the text except no, not and n't\n",
    "df['clean_review'] = df['clean_review'].apply(remove_stopwords)\n",
    "df.head()"
   ]
  },
  {
   "cell_type": "code",
   "execution_count": 45,
   "metadata": {
    "colab": {
     "base_uri": "https://localhost:8080/",
     "height": 279
    },
    "id": "hNza0MOlz75h",
    "outputId": "5acf0a31-7a36-489e-8b3c-470bfe1e7fa6"
   },
   "outputs": [
    {
     "data": {
      "image/png": "[encoded data removed]",
      "text/plain": [
       "<Figure size 432x288 with 1 Axes>"
      ]
     },
     "metadata": {
      "needs_background": "light",
      "tags": []
     },
     "output_type": "display_data"
    }
   ],
   "source": [
    "# Target count\n",
    "sns.countplot(df['sentiment'])\n",
    "plt.show()"
   ]
  },
  {
   "cell_type": "markdown",
   "metadata": {
    "id": "izC73eg8Jdji"
   },
   "source": [
    "**Sentiment Analysis using TextBlob**"
   ]
  },
  {
   "cell_type": "code",
   "execution_count": 56,
   "metadata": {
    "id": "AEW1DnLHCd77"
   },
   "outputs": [],
   "source": [
    "def predict_sentiment_score(review):\n",
    "    polarity = TextBlob(review).sentiment.polarity\n",
    "    if polarity >= 0.4:\n",
    "        return 1\n",
    "    else:\n",
    "        return 0\n",
    "\n",
    "df['review_class'] = df['clean_review'].apply(predict_sentiment_score)\n",
    "\n",
    "# df.head()"
   ]
  },
  {
   "cell_type": "code",
   "execution_count": 53,
   "metadata": {
    "colab": {
     "base_uri": "https://localhost:8080/",
     "height": 125
    },
    "id": "ECZJ513cCgUG",
    "outputId": "6cfcc89f-ad20-416f-c91e-fdb410ecd1c7"
   },
   "outputs": [
    {
     "name": "stdout",
     "output_type": "stream",
     "text": [
      "Accuracy:  0.51114\n",
      "Precision:  0.9470304975922953\n",
      "Recall:  0.0236\n",
      "F1 score : 0.04605237481949811\n",
      "Confusion Matrix: [[24967    33]\n",
      " [24410   590]]\n"
     ]
    }
   ],
   "source": [
    "print('Accuracy: ', accuracy_score(df['sentiment_index'], df['review_class']))\n",
    "print('Precision: ', precision_score(df['sentiment_index'], df['review_class']))\n",
    "print('Recall: ', recall_score(df['sentiment_index'], df['review_class']))\n",
    "print('F1 score :', f1_score(df['sentiment_index'], df['review_class']))\n",
    "print('Confusion Matrix:', confusion_matrix(df['sentiment_index'], df['review_class']))"
   ]
  },
  {
   "cell_type": "markdown",
   "metadata": {
    "id": "zhvKaa-rJoo7"
   },
   "source": [
    "**Using Deep Learning**\n",
    "\n",
    "**TFIDF**"
   ]
  },
  {
   "cell_type": "code",
   "execution_count": 57,
   "metadata": {
    "id": "yTnqy1nrJZeT"
   },
   "outputs": [],
   "source": [
    "df_dl = df[['clean_review', 'sentiment_index']].copy()"
   ]
  },
  {
   "cell_type": "code",
   "execution_count": 58,
   "metadata": {
    "id": "_TEGFsXsLu5R"
   },
   "outputs": [],
   "source": [
    "reviews = df_dl['clean_review'].values\n",
    "review_class = df_dl['sentiment_index'].values"
   ]
  },
  {
   "cell_type": "code",
   "execution_count": 61,
   "metadata": {
    "colab": {
     "base_uri": "https://localhost:8080/",
     "height": 53
    },
    "id": "H9WLRw5jMoCh",
    "outputId": "77f7fcff-0641-46d9-bbfa-a1d2eebca46d"
   },
   "outputs": [
    {
     "name": "stdout",
     "output_type": "stream",
     "text": [
      "180760\n",
      "(50000, 1000)\n"
     ]
    }
   ],
   "source": [
    "\n",
    "# number of words has to be taken to train the model\n",
    "words_count = 1000\n",
    "\n",
    "# Initializing the Keras Tokenizer to tokenize the reviews and create feature vector\n",
    "tokenizer = Tokenizer(words_count,\n",
    "                      lower=True)\n",
    "\n",
    "# fitting the tokenizer to tokenize the text\n",
    "tokenizer.fit_on_texts(reviews)\n",
    "with open('/content/drive/My Drive/datasets/sentiment_analysis/tokenizer.pkl', 'wb') as f:\n",
    "    pkl.dump(tokenizer, f)\n",
    "# size of the build Vocabulary\n",
    "# print(len(tokenizer.word_index))\n",
    "\n",
    "# converting text into numbers using TF-IDF\n",
    "features = tokenizer.texts_to_matrix(reviews, mode='tfidf')\n",
    "\n",
    "print(features.shape)"
   ]
  },
  {
   "cell_type": "markdown",
   "metadata": {
    "id": "7hkz7ZBG0rEZ"
   },
   "source": [
    "model building"
   ]
  },
  {
   "cell_type": "code",
   "execution_count": 70,
   "metadata": {
    "colab": {
     "base_uri": "https://localhost:8080/",
     "height": 449
    },
    "id": "lhDM3BVF0mD3",
    "outputId": "b19ebef5-f2f7-4336-b848-9e8fbdf46ccd"
   },
   "outputs": [
    {
     "name": "stdout",
     "output_type": "stream",
     "text": [
      "Model: \"sequential_3\"\n",
      "_________________________________________________________________\n",
      "Layer (type)                 Output Shape              Param #   \n",
      "=================================================================\n",
      "dense_11 (Dense)             (None, 1000)              1001000   \n",
      "_________________________________________________________________\n",
      "dense_12 (Dense)             (None, 500)               500500    \n",
      "_________________________________________________________________\n",
      "dropout_4 (Dropout)          (None, 500)               0         \n",
      "_________________________________________________________________\n",
      "dense_13 (Dense)             (None, 100)               50100     \n",
      "_________________________________________________________________\n",
      "dropout_5 (Dropout)          (None, 100)               0         \n",
      "_________________________________________________________________\n",
      "dense_14 (Dense)             (None, 10)                1010      \n",
      "_________________________________________________________________\n",
      "dropout_6 (Dropout)          (None, 10)                0         \n",
      "_________________________________________________________________\n",
      "dense_15 (Dense)             (None, 1)                 11        \n",
      "=================================================================\n",
      "Total params: 1,552,621\n",
      "Trainable params: 1,552,621\n",
      "Non-trainable params: 0\n",
      "_________________________________________________________________\n"
     ]
    }
   ],
   "source": [
    "model = Sequential()\n",
    "\n",
    "# model.add(BatchNormalization(input_shape=(words_count, )))\n",
    "model.add(Dense(words_count, input_dim=words_count, activation='relu'))\n",
    "\n",
    "model.add(Dense(500, activation='relu'))\n",
    "model.add(Dropout(0.2))\n",
    "\n",
    "model.add(Dense(100, activation='relu'))\n",
    "model.add(Dropout(0.2))\n",
    "\n",
    "model.add(Dense(10, activation='relu'))\n",
    "model.add(Dropout(0.2))\n",
    "\n",
    "model.add(Dense(1, activation='sigmoid'))\n",
    "\n",
    "model.compile(\n",
    "    optimizer='adam',\n",
    "    loss='binary_crossentropy',\n",
    "    metrics=['accuracy']\n",
    ")\n",
    "\n",
    "model.summary()"
   ]
  },
  {
   "cell_type": "code",
   "execution_count": 71,
   "metadata": {
    "colab": {
     "base_uri": "https://localhost:8080/",
     "height": 901
    },
    "id": "iWQZ3csW0mNh",
    "outputId": "848f5a7c-7ae1-4ec5-9aac-5f05a3511993"
   },
   "outputs": [
    {
     "name": "stdout",
     "output_type": "stream",
     "text": [
      "Epoch 1/100\n",
      "\n",
      "Epoch 00001: val_accuracy improved from -inf to 0.85540, saving model to /content/drive/My Drive/datasets/sentiment_analysis/cnn/weights-improvement-01-0.86.hdf5\n",
      "Epoch 2/100\n",
      "\n",
      "Epoch 00002: val_accuracy improved from 0.85540 to 0.85613, saving model to /content/drive/My Drive/datasets/sentiment_analysis/cnn/weights-improvement-02-0.86.hdf5\n",
      "Epoch 3/100\n",
      "\n",
      "Epoch 00003: val_accuracy did not improve from 0.85613\n",
      "Epoch 4/100\n",
      "\n",
      "Epoch 00004: val_accuracy did not improve from 0.85613\n",
      "Epoch 5/100\n",
      "\n",
      "Epoch 00005: val_accuracy did not improve from 0.85613\n",
      "Epoch 6/100\n",
      "\n",
      "Epoch 00006: val_accuracy did not improve from 0.85613\n",
      "Epoch 7/100\n",
      "\n",
      "Epoch 00007: val_accuracy did not improve from 0.85613\n",
      "Epoch 8/100\n",
      "\n",
      "Epoch 00008: val_accuracy did not improve from 0.85613\n",
      "Epoch 9/100\n",
      "\n",
      "Epoch 00009: val_accuracy did not improve from 0.85613\n",
      "Epoch 10/100\n",
      "\n",
      "Epoch 00010: val_accuracy did not improve from 0.85613\n",
      "Epoch 11/100\n",
      "\n",
      "Epoch 00011: val_accuracy did not improve from 0.85613\n",
      "Epoch 12/100\n",
      "\n",
      "Epoch 00012: val_accuracy did not improve from 0.85613\n",
      "Epoch 13/100\n",
      "\n",
      "Epoch 00013: val_accuracy did not improve from 0.85613\n",
      "Epoch 14/100\n",
      "\n",
      "Epoch 00014: val_accuracy did not improve from 0.85613\n",
      "Epoch 15/100\n",
      "\n",
      "Epoch 00015: val_accuracy did not improve from 0.85613\n",
      "Epoch 16/100\n",
      "\n",
      "Epoch 00016: val_accuracy did not improve from 0.85613\n"
     ]
    }
   ],
   "source": [
    "batch_size = 32\n",
    "filepath=\"/content/drive/My Drive/datasets/sentiment_analysis/cnn/cnn_weights-improvement-{epoch:02d}-{val_accuracy:.2f}.hdf5\"\n",
    "checkpoint = ModelCheckpoint(filepath, monitor='val_accuracy', verbose=1, save_best_only=True, mode='max')\n",
    "callbacks_list = [checkpoint, EarlyStopping(patience = 15)]\n",
    "history = model.fit(features, review_class,\n",
    "          validation_split=0.30,\n",
    "          callbacks=callbacks_list,\n",
    "          epochs=100,\n",
    "          batch_size = batch_size,\n",
    "          verbose=3).history"
   ]
  },
  {
   "cell_type": "code",
   "execution_count": 72,
   "metadata": {
    "colab": {
     "base_uri": "https://localhost:8080/",
     "height": 645
    },
    "id": "_IAxi6Ps0mls",
    "outputId": "d75f6197-d24d-4724-c9fe-37ca08635f9c"
   },
   "outputs": [
    {
     "name": "stdout",
     "output_type": "stream",
     "text": [
      "Train Max Accuracy:  0.9978285431861877\n",
      "Val Max Accuracy:  0.8561333417892456\n",
      "Train Min Loss:  0.007483073975890875\n",
      "Val Min Loss:  0.3321588933467865\n"
     ]
    },
    {
     "data": {
      "image/png": "[encoded data removed]",
      "text/plain": [
       "<Figure size 432x288 with 1 Axes>"
      ]
     },
     "metadata": {
      "needs_background": "light",
      "tags": []
     },
     "output_type": "display_data"
    },
    {
     "data": {
      "image/png": "[encoded data removed]",
      "text/plain": [
       "<Figure size 432x288 with 1 Axes>"
      ]
     },
     "metadata": {
      "needs_background": "light",
      "tags": []
     },
     "output_type": "display_data"
    }
   ],
   "source": [
    "print('Train Max Accuracy: ', max(history['accuracy']))\n",
    "print('Val Max Accuracy: ', max(history['val_accuracy']))\n",
    "print('Train Min Loss: ', min(history['loss']))\n",
    "print('Val Min Loss: ', min(history['val_loss']))\n",
    "\n",
    "\n",
    "# list all data in history\n",
    "# summarize history for accuracy\n",
    "plt.plot(history['accuracy'])\n",
    "plt.plot(history['val_accuracy'])\n",
    "plt.title('model accuracy')\n",
    "plt.ylabel('accuracy')\n",
    "plt.xlabel('epoch')\n",
    "plt.legend(['train', 'test'])\n",
    "plt.show()\n",
    "# summarize history for loss\n",
    "plt.plot(history['loss'])\n",
    "plt.plot(history['val_loss'])\n",
    "plt.title('model loss')\n",
    "plt.ylabel('loss')\n",
    "plt.xlabel('epoch')\n",
    "plt.legend(['train', 'test'])\n",
    "plt.show()"
   ]
  },
  {
   "cell_type": "markdown",
   "metadata": {
    "id": "Isuj6l3-9Wf2"
   },
   "source": [
    "Using LSTM"
   ]
  },
  {
   "cell_type": "code",
   "execution_count": 78,
   "metadata": {
    "id": "Xn-v13koOGxd"
   },
   "outputs": [],
   "source": [
    "# Using already created feature vector\n",
    "\n",
    "max_words = 500\n",
    "features = sequence.pad_sequences(features, maxlen=max_words)"
   ]
  },
  {
   "cell_type": "code",
   "execution_count": 83,
   "metadata": {
    "colab": {
     "base_uri": "https://localhost:8080/",
     "height": 287
    },
    "id": "3uJpYar6-VR8",
    "outputId": "722029a9-175d-4101-8906-f91d9107c1bc"
   },
   "outputs": [
    {
     "name": "stdout",
     "output_type": "stream",
     "text": [
      "Model: \"sequential_5\"\n",
      "_________________________________________________________________\n",
      "Layer (type)                 Output Shape              Param #   \n",
      "=================================================================\n",
      "embedding_2 (Embedding)      (None, 500, 64)           64000     \n",
      "_________________________________________________________________\n",
      "lstm_2 (LSTM)                (None, 500)               1130000   \n",
      "_________________________________________________________________\n",
      "dense_17 (Dense)             (None, 1)                 501       \n",
      "=================================================================\n",
      "Total params: 1,194,501\n",
      "Trainable params: 1,194,501\n",
      "Non-trainable params: 0\n",
      "_________________________________________________________________\n",
      "None\n"
     ]
    }
   ],
   "source": [
    "embedding_size=64\n",
    "\n",
    "model=Sequential()\n",
    "\n",
    "model.add(Embedding(words_count, embedding_size, input_length=max_words))\n",
    "\n",
    "model.add(LSTM(max_words))\n",
    "\n",
    "model.add(Dense(1, activation='sigmoid'))\n",
    "\n",
    "print(model.summary())"
   ]
  },
  {
   "cell_type": "code",
   "execution_count": 84,
   "metadata": {
    "id": "lpLvipGq_YHE"
   },
   "outputs": [],
   "source": [
    "model.compile(loss='binary_crossentropy', \n",
    "             optimizer='adam', \n",
    "             metrics=['accuracy'])"
   ]
  },
  {
   "cell_type": "code",
   "execution_count": 85,
   "metadata": {
    "colab": {
     "base_uri": "https://localhost:8080/",
     "height": 1000
    },
    "id": "5R8yihx1_gMq",
    "outputId": "53515408-f6b6-4ab6-f081-3376e4b2ac66"
   },
   "outputs": [
    {
     "name": "stdout",
     "output_type": "stream",
     "text": [
      "Epoch 1/100\n",
      "\n",
      "Epoch 00001: val_accuracy improved from -inf to 0.50940, saving model to /content/drive/My Drive/datasets/sentiment_analysis/lstm/weights-improvement-01-0.51.hdf5\n",
      "Epoch 2/100\n",
      "\n",
      "Epoch 00002: val_accuracy did not improve from 0.50940\n",
      "Epoch 3/100\n",
      "\n",
      "Epoch 00003: val_accuracy did not improve from 0.50940\n",
      "Epoch 4/100\n",
      "\n",
      "Epoch 00004: val_accuracy improved from 0.50940 to 0.51240, saving model to /content/drive/My Drive/datasets/sentiment_analysis/lstm/weights-improvement-04-0.51.hdf5\n",
      "Epoch 5/100\n",
      "\n",
      "Epoch 00005: val_accuracy improved from 0.51240 to 0.51840, saving model to /content/drive/My Drive/datasets/sentiment_analysis/lstm/weights-improvement-05-0.52.hdf5\n",
      "Epoch 6/100\n",
      "\n",
      "Epoch 00006: val_accuracy did not improve from 0.51840\n",
      "Epoch 7/100\n",
      "\n",
      "Epoch 00007: val_accuracy did not improve from 0.51840\n",
      "Epoch 8/100\n",
      "\n",
      "Epoch 00008: val_accuracy did not improve from 0.51840\n",
      "Epoch 9/100\n",
      "\n",
      "Epoch 00009: val_accuracy did not improve from 0.51840\n",
      "Epoch 10/100\n",
      "\n",
      "Epoch 00010: val_accuracy did not improve from 0.51840\n",
      "Epoch 11/100\n",
      "\n",
      "Epoch 00011: val_accuracy did not improve from 0.51840\n",
      "Epoch 12/100\n",
      "\n",
      "Epoch 00012: val_accuracy did not improve from 0.51840\n",
      "Epoch 13/100\n",
      "\n",
      "Epoch 00013: val_accuracy did not improve from 0.51840\n",
      "Epoch 14/100\n",
      "\n",
      "Epoch 00014: val_accuracy improved from 0.51840 to 0.52510, saving model to /content/drive/My Drive/datasets/sentiment_analysis/lstm/weights-improvement-14-0.53.hdf5\n",
      "Epoch 15/100\n",
      "\n",
      "Epoch 00015: val_accuracy did not improve from 0.52510\n",
      "Epoch 16/100\n",
      "\n",
      "Epoch 00016: val_accuracy did not improve from 0.52510\n",
      "Epoch 17/100\n",
      "\n",
      "Epoch 00017: val_accuracy did not improve from 0.52510\n",
      "Epoch 18/100\n",
      "\n",
      "Epoch 00018: val_accuracy improved from 0.52510 to 0.52700, saving model to /content/drive/My Drive/datasets/sentiment_analysis/lstm/weights-improvement-18-0.53.hdf5\n",
      "Epoch 19/100\n",
      "\n",
      "Epoch 00019: val_accuracy did not improve from 0.52700\n",
      "Epoch 20/100\n",
      "\n",
      "Epoch 00020: val_accuracy did not improve from 0.52700\n",
      "Epoch 21/100\n",
      "\n",
      "Epoch 00021: val_accuracy did not improve from 0.52700\n",
      "Epoch 22/100\n",
      "\n",
      "Epoch 00022: val_accuracy did not improve from 0.52700\n",
      "Epoch 23/100\n",
      "\n",
      "Epoch 00023: val_accuracy did not improve from 0.52700\n",
      "Epoch 24/100\n",
      "\n",
      "Epoch 00024: val_accuracy did not improve from 0.52700\n",
      "Epoch 25/100\n",
      "\n",
      "Epoch 00025: val_accuracy did not improve from 0.52700\n",
      "Epoch 26/100\n",
      "\n",
      "Epoch 00026: val_accuracy did not improve from 0.52700\n",
      "Epoch 27/100\n",
      "\n",
      "Epoch 00027: val_accuracy did not improve from 0.52700\n",
      "Epoch 28/100\n",
      "\n",
      "Epoch 00028: val_accuracy did not improve from 0.52700\n",
      "Epoch 29/100\n",
      "\n",
      "Epoch 00029: val_accuracy did not improve from 0.52700\n",
      "Epoch 30/100\n",
      "\n",
      "Epoch 00030: val_accuracy improved from 0.52700 to 0.52750, saving model to /content/drive/My Drive/datasets/sentiment_analysis/lstm/weights-improvement-30-0.53.hdf5\n",
      "Epoch 31/100\n",
      "\n",
      "Epoch 00031: val_accuracy did not improve from 0.52750\n",
      "Epoch 32/100\n",
      "\n",
      "Epoch 00032: val_accuracy did not improve from 0.52750\n",
      "Epoch 33/100\n",
      "\n",
      "Epoch 00033: val_accuracy did not improve from 0.52750\n",
      "Epoch 34/100\n",
      "\n",
      "Epoch 00034: val_accuracy improved from 0.52750 to 0.53230, saving model to /content/drive/My Drive/datasets/sentiment_analysis/lstm/weights-improvement-34-0.53.hdf5\n",
      "Epoch 35/100\n",
      "\n",
      "Epoch 00035: val_accuracy did not improve from 0.53230\n",
      "Epoch 36/100\n",
      "\n",
      "Epoch 00036: val_accuracy did not improve from 0.53230\n",
      "Epoch 37/100\n",
      "\n",
      "Epoch 00037: val_accuracy did not improve from 0.53230\n",
      "Epoch 38/100\n",
      "\n",
      "Epoch 00038: val_accuracy did not improve from 0.53230\n",
      "Epoch 39/100\n",
      "\n",
      "Epoch 00039: val_accuracy did not improve from 0.53230\n",
      "Epoch 40/100\n",
      "\n",
      "Epoch 00040: val_accuracy did not improve from 0.53230\n",
      "Epoch 41/100\n",
      "\n",
      "Epoch 00041: val_accuracy improved from 0.53230 to 0.53350, saving model to /content/drive/My Drive/datasets/sentiment_analysis/lstm/weights-improvement-41-0.53.hdf5\n",
      "Epoch 42/100\n",
      "\n",
      "Epoch 00042: val_accuracy did not improve from 0.53350\n",
      "Epoch 43/100\n",
      "\n",
      "Epoch 00043: val_accuracy did not improve from 0.53350\n",
      "Epoch 44/100\n",
      "\n",
      "Epoch 00044: val_accuracy did not improve from 0.53350\n",
      "Epoch 45/100\n",
      "\n",
      "Epoch 00045: val_accuracy did not improve from 0.53350\n",
      "Epoch 46/100\n",
      "\n",
      "Epoch 00046: val_accuracy did not improve from 0.53350\n",
      "Epoch 47/100\n",
      "\n",
      "Epoch 00047: val_accuracy improved from 0.53350 to 0.54730, saving model to /content/drive/My Drive/datasets/sentiment_analysis/lstm/weights-improvement-47-0.55.hdf5\n",
      "Epoch 48/100\n",
      "\n",
      "Epoch 00048: val_accuracy did not improve from 0.54730\n",
      "Epoch 49/100\n",
      "\n",
      "Epoch 00049: val_accuracy did not improve from 0.54730\n",
      "Epoch 50/100\n",
      "\n",
      "Epoch 00050: val_accuracy did not improve from 0.54730\n",
      "Epoch 51/100\n",
      "\n",
      "Epoch 00051: val_accuracy did not improve from 0.54730\n",
      "Epoch 52/100\n",
      "\n",
      "Epoch 00052: val_accuracy did not improve from 0.54730\n",
      "Epoch 53/100\n",
      "\n",
      "Epoch 00053: val_accuracy did not improve from 0.54730\n",
      "Epoch 54/100\n",
      "\n",
      "Epoch 00054: val_accuracy improved from 0.54730 to 0.55220, saving model to /content/drive/My Drive/datasets/sentiment_analysis/lstm/weights-improvement-54-0.55.hdf5\n",
      "Epoch 55/100\n",
      "\n",
      "Epoch 00055: val_accuracy did not improve from 0.55220\n",
      "Epoch 56/100\n",
      "\n",
      "Epoch 00056: val_accuracy did not improve from 0.55220\n",
      "Epoch 57/100\n",
      "\n",
      "Epoch 00057: val_accuracy did not improve from 0.55220\n",
      "Epoch 58/100\n",
      "\n",
      "Epoch 00058: val_accuracy did not improve from 0.55220\n",
      "Epoch 59/100\n",
      "\n",
      "Epoch 00059: val_accuracy did not improve from 0.55220\n",
      "Epoch 60/100\n",
      "\n",
      "Epoch 00060: val_accuracy did not improve from 0.55220\n",
      "Epoch 61/100\n",
      "\n",
      "Epoch 00061: val_accuracy did not improve from 0.55220\n",
      "Epoch 62/100\n",
      "\n",
      "Epoch 00062: val_accuracy improved from 0.55220 to 0.55370, saving model to /content/drive/My Drive/datasets/sentiment_analysis/lstm/weights-improvement-62-0.55.hdf5\n",
      "Epoch 63/100\n",
      "\n",
      "Epoch 00063: val_accuracy did not improve from 0.55370\n",
      "Epoch 64/100\n",
      "\n",
      "Epoch 00064: val_accuracy did not improve from 0.55370\n",
      "Epoch 65/100\n",
      "\n",
      "Epoch 00065: val_accuracy did not improve from 0.55370\n",
      "Epoch 66/100\n",
      "\n",
      "Epoch 00066: val_accuracy did not improve from 0.55370\n",
      "Epoch 67/100\n",
      "\n",
      "Epoch 00067: val_accuracy did not improve from 0.55370\n",
      "Epoch 68/100\n",
      "\n",
      "Epoch 00068: val_accuracy did not improve from 0.55370\n",
      "Epoch 69/100\n",
      "\n",
      "Epoch 00069: val_accuracy improved from 0.55370 to 0.55560, saving model to /content/drive/My Drive/datasets/sentiment_analysis/lstm/weights-improvement-69-0.56.hdf5\n",
      "Epoch 70/100\n",
      "\n",
      "Epoch 00070: val_accuracy did not improve from 0.55560\n",
      "Epoch 71/100\n",
      "\n",
      "Epoch 00071: val_accuracy improved from 0.55560 to 0.55690, saving model to /content/drive/My Drive/datasets/sentiment_analysis/lstm/weights-improvement-71-0.56.hdf5\n",
      "Epoch 72/100\n",
      "\n",
      "Epoch 00072: val_accuracy did not improve from 0.55690\n",
      "Epoch 73/100\n",
      "\n",
      "Epoch 00073: val_accuracy did not improve from 0.55690\n",
      "Epoch 74/100\n",
      "\n",
      "Epoch 00074: val_accuracy did not improve from 0.55690\n",
      "Epoch 75/100\n",
      "\n",
      "Epoch 00075: val_accuracy did not improve from 0.55690\n",
      "Epoch 76/100\n",
      "\n",
      "Epoch 00076: val_accuracy did not improve from 0.55690\n",
      "Epoch 77/100\n",
      "\n",
      "Epoch 00077: val_accuracy did not improve from 0.55690\n",
      "Epoch 78/100\n",
      "\n",
      "Epoch 00078: val_accuracy improved from 0.55690 to 0.56520, saving model to /content/drive/My Drive/datasets/sentiment_analysis/lstm/weights-improvement-78-0.57.hdf5\n",
      "Epoch 79/100\n",
      "\n",
      "Epoch 00079: val_accuracy did not improve from 0.56520\n",
      "Epoch 80/100\n",
      "\n",
      "Epoch 00080: val_accuracy did not improve from 0.56520\n",
      "Epoch 81/100\n",
      "\n",
      "Epoch 00081: val_accuracy improved from 0.56520 to 0.56740, saving model to /content/drive/My Drive/datasets/sentiment_analysis/lstm/weights-improvement-81-0.57.hdf5\n",
      "Epoch 82/100\n",
      "\n",
      "Epoch 00082: val_accuracy did not improve from 0.56740\n",
      "Epoch 83/100\n",
      "\n",
      "Epoch 00083: val_accuracy improved from 0.56740 to 0.56830, saving model to /content/drive/My Drive/datasets/sentiment_analysis/lstm/weights-improvement-83-0.57.hdf5\n",
      "Epoch 84/100\n",
      "\n",
      "Epoch 00084: val_accuracy did not improve from 0.56830\n",
      "Epoch 85/100\n",
      "\n",
      "Epoch 00085: val_accuracy did not improve from 0.56830\n",
      "Epoch 86/100\n",
      "\n",
      "Epoch 00086: val_accuracy did not improve from 0.56830\n",
      "Epoch 87/100\n",
      "\n",
      "Epoch 00087: val_accuracy improved from 0.56830 to 0.56950, saving model to /content/drive/My Drive/datasets/sentiment_analysis/lstm/weights-improvement-87-0.57.hdf5\n",
      "Epoch 88/100\n",
      "\n",
      "Epoch 00088: val_accuracy did not improve from 0.56950\n",
      "Epoch 89/100\n",
      "\n",
      "Epoch 00089: val_accuracy did not improve from 0.56950\n",
      "Epoch 90/100\n",
      "\n",
      "Epoch 00090: val_accuracy did not improve from 0.56950\n",
      "Epoch 91/100\n",
      "\n",
      "Epoch 00091: val_accuracy did not improve from 0.56950\n",
      "Epoch 92/100\n",
      "\n",
      "Epoch 00092: val_accuracy did not improve from 0.56950\n",
      "Epoch 93/100\n",
      "\n",
      "Epoch 00093: val_accuracy did not improve from 0.56950\n",
      "Epoch 94/100\n",
      "\n",
      "Epoch 00094: val_accuracy did not improve from 0.56950\n",
      "Epoch 95/100\n",
      "\n",
      "Epoch 00095: val_accuracy did not improve from 0.56950\n",
      "Epoch 96/100\n",
      "\n",
      "Epoch 00096: val_accuracy did not improve from 0.56950\n",
      "Epoch 97/100\n",
      "\n",
      "Epoch 00097: val_accuracy did not improve from 0.56950\n",
      "Epoch 98/100\n",
      "\n",
      "Epoch 00098: val_accuracy improved from 0.56950 to 0.57310, saving model to /content/drive/My Drive/datasets/sentiment_analysis/lstm/weights-improvement-98-0.57.hdf5\n",
      "Epoch 99/100\n",
      "\n",
      "Epoch 00099: val_accuracy did not improve from 0.57310\n",
      "Epoch 100/100\n",
      "\n",
      "Epoch 00100: val_accuracy did not improve from 0.57310\n"
     ]
    },
    {
     "data": {
      "text/plain": [
       "<tensorflow.python.keras.callbacks.History at 0x7fc8632a6fd0>"
      ]
     },
     "execution_count": 85,
     "metadata": {
      "tags": []
     },
     "output_type": "execute_result"
    }
   ],
   "source": [
    "batch_size = 64\n",
    "filepath=\"/content/drive/My Drive/datasets/sentiment_analysis/lstm/lstm_weights-improvement-{epoch:02d}-{val_accuracy:.2f}.hdf5\"\n",
    "checkpoint = ModelCheckpoint(filepath, monitor='val_accuracy', verbose=1, save_best_only=True, mode='max')\n",
    "callbacks_list = [checkpoint, EarlyStopping(patience = 15)]\n",
    "model.fit(features, review_class,\n",
    "          validation_split=0.20, \n",
    "          callbacks=callbacks_list,\n",
    "          batch_size = batch_size,\n",
    "          epochs = 100,\n",
    "          verbose=3)"
   ]
  },
  {
   "cell_type": "code",
   "execution_count": 87,
   "metadata": {
    "colab": {
     "base_uri": "https://localhost:8080/",
     "height": 645
    },
    "id": "6uE7gr3_OYZZ",
    "outputId": "11ff90fb-1c11-4c5a-b10e-7ae44193e215"
   },
   "outputs": [
    {
     "name": "stdout",
     "output_type": "stream",
     "text": [
      "Train Max Accuracy:  0.5904250144958496\n",
      "Val Max Accuracy:  0.5730999708175659\n",
      "Train Min Loss:  0.6543943881988525\n",
      "Val Min Loss:  0.678179919719696\n"
     ]
    },
    {
     "data": {
      "image/png": "[encoded data removed]",
      "text/plain": [
       "<Figure size 432x288 with 1 Axes>"
      ]
     },
     "metadata": {
      "needs_background": "light",
      "tags": []
     },
     "output_type": "display_data"
    },
    {
     "data": {
      "image/png": "[encoded data removed]",
      "text/plain": [
       "<Figure size 432x288 with 1 Axes>"
      ]
     },
     "metadata": {
      "needs_background": "light",
      "tags": []
     },
     "output_type": "display_data"
    }
   ],
   "source": [
    "history = model.history.history\n",
    "\n",
    "print('Train Max Accuracy: ', max(history['accuracy']))\n",
    "print('Val Max Accuracy: ', max(history['val_accuracy']))\n",
    "print('Train Min Loss: ', min(history['loss']))\n",
    "print('Val Min Loss: ', min(history['val_loss']))\n",
    "\n",
    "# list all data in history\n",
    "# summarize history for accuracy\n",
    "plt.plot(history['accuracy'])\n",
    "plt.plot(history['val_accuracy'])\n",
    "plt.title('model accuracy')\n",
    "plt.ylabel('accuracy')\n",
    "plt.xlabel('epoch')\n",
    "plt.legend(['train', 'test'])\n",
    "plt.show()\n",
    "# summarize history for loss\n",
    "plt.plot(history['loss'])\n",
    "plt.plot(history['val_loss'])\n",
    "plt.title('model loss')\n",
    "plt.ylabel('loss')\n",
    "plt.xlabel('epoch')\n",
    "plt.legend(['train', 'test'])\n",
    "plt.show()"
   ]
  },
  {
   "cell_type": "markdown",
   "metadata": {
    "id": "_WTC6gxlFJN_"
   },
   "source": [
    "The model requires more training to train well and give good accuracy"
   ]
  },
  {
   "cell_type": "code",
   "execution_count": null,
   "metadata": {
    "id": "pYMn09wXvXAF"
   },
   "outputs": [],
   "source": []
  },
  {
   "cell_type": "markdown",
   "metadata": {
    "id": "sTLClo9BvZoD"
   },
   "source": [
    "**USING Logistic Regression**"
   ]
  },
  {
   "cell_type": "code",
   "execution_count": 145,
   "metadata": {
    "colab": {
     "base_uri": "https://localhost:8080/",
     "height": 35
    },
    "id": "_lAFDVlQvXyC",
    "outputId": "ca1ebae5-6523-491e-862c-ce8e6ca52fc5"
   },
   "outputs": [
    {
     "name": "stdout",
     "output_type": "stream",
     "text": [
      "Padded Feature Vector:  (50000, 500)\n"
     ]
    }
   ],
   "source": [
    "# Using already created feature vector\n",
    "max_words = 500\n",
    "features = sequence.pad_sequences(features, maxlen=max_words)\n",
    "print('Padded Feature Vector: ', features.shape)"
   ]
  },
  {
   "cell_type": "code",
   "execution_count": 146,
   "metadata": {
    "colab": {
     "base_uri": "https://localhost:8080/",
     "height": 35
    },
    "id": "JhkqJATZvj7K",
    "outputId": "a511fd78-8fa5-4190-98fd-d69eef7cdcbf"
   },
   "outputs": [
    {
     "name": "stdout",
     "output_type": "stream",
     "text": [
      "(40000, 500) (40000,) (10000, 500) (10000,)\n"
     ]
    }
   ],
   "source": [
    "train_x, test_x, train_y, test_y = train_test_split(features, review_class, test_size=0.2)\n",
    "print(train_x.shape, train_y.shape, test_x.shape, test_y.shape)"
   ]
  },
  {
   "cell_type": "code",
   "execution_count": 147,
   "metadata": {
    "colab": {
     "base_uri": "https://localhost:8080/",
     "height": 107
    },
    "id": "_19BibWswKVJ",
    "outputId": "80a296d7-0856-4332-b3f9-8bd4dabe7798"
   },
   "outputs": [
    {
     "data": {
      "text/plain": [
       "LogisticRegression(C=1.0, class_weight=None, dual=False, fit_intercept=True,\n",
       "                   intercept_scaling=1, l1_ratio=None, max_iter=100,\n",
       "                   multi_class='auto', n_jobs=None, penalty='l2',\n",
       "                   random_state=None, solver='lbfgs', tol=0.0001, verbose=0,\n",
       "                   warm_start=False)"
      ]
     },
     "execution_count": 147,
     "metadata": {
      "tags": []
     },
     "output_type": "execute_result"
    }
   ],
   "source": [
    "from sklearn.linear_model import LogisticRegression\n",
    "from datetime import datetime as dt\n",
    "\n",
    "log_reg = LogisticRegression()\n",
    "log_reg.fit(train_x, train_y)"
   ]
  },
  {
   "cell_type": "code",
   "execution_count": 148,
   "metadata": {
    "id": "kGChnMYswWD8"
   },
   "outputs": [],
   "source": [
    "pred_y = log_reg.predict(test_x)"
   ]
  },
  {
   "cell_type": "code",
   "execution_count": 150,
   "metadata": {
    "colab": {
     "base_uri": "https://localhost:8080/",
     "height": 125
    },
    "id": "mkcTwfmjwVud",
    "outputId": "e1b5d897-6f0f-43df-f649-6d30beb0c53d"
   },
   "outputs": [
    {
     "name": "stdout",
     "output_type": "stream",
     "text": [
      "Accuracy:  0.6077\n",
      "Precision:  0.5841461526552097\n",
      "Recall:  0.7530938123752495\n",
      "F1 score : 0.657947510680966\n",
      "Confusion Matrix: [[2304 2686]\n",
      " [1237 3773]]\n"
     ]
    }
   ],
   "source": [
    "accuracy = accuracy_score(test_y, pred_y)\n",
    "print('Accuracy: ', accuracy)\n",
    "print('Precision: ', precision_score(test_y, pred_y))\n",
    "print('Recall: ', recall_score(test_y, pred_y))\n",
    "print('F1 score :', f1_score(test_y, pred_y))\n",
    "print('Confusion Matrix:', confusion_matrix(test_y, pred_y))\n",
    "with open('/content/drive/My Drive/datasets/sentiment_analysis/log_reg_'+str(accuracy)+'_'+str(dt.now())+'.pkl', 'wb') as f:\n",
    "    pkl.dump(log_reg, f)"
   ]
  },
  {
   "cell_type": "code",
   "execution_count": null,
   "metadata": {
    "id": "zlxMEyk3wVrn"
   },
   "outputs": [],
   "source": []
  },
  {
   "cell_type": "code",
   "execution_count": null,
   "metadata": {
    "id": "FoEuVDkQFdzm"
   },
   "outputs": [],
   "source": []
  }
 ],
 "metadata": {
  "accelerator": "GPU",
  "colab": {
   "collapsed_sections": [],
   "name": "Sentiment Analyzer multi-model.ipynb",
   "provenance": []
  },
  "kernelspec": {
   "display_name": "Python 3",
   "language": "python",
   "name": "python3"
  },
  "language_info": {
   "codemirror_mode": {
    "name": "ipython",
    "version": 3
   },
   "file_extension": ".py",
   "mimetype": "text/x-python",
   "name": "python",
   "nbconvert_exporter": "python",
   "pygments_lexer": "ipython3",
   "version": "3.6.7"
  }
 },
 "nbformat": 4,
 "nbformat_minor": 1
}
